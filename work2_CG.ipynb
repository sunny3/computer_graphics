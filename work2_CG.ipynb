{
 "cells": [
  {
   "cell_type": "code",
   "execution_count": 1,
   "metadata": {},
   "outputs": [],
   "source": [
    "import matplotlib.pyplot as plt\n",
    "from matplotlib.colors import Normalize\n",
    "import numpy as np\n",
    "from skimage.io import imread\n",
    "from skimage.transform import resize\n",
    "import requests"
   ]
  },
  {
   "cell_type": "code",
   "execution_count": null,
   "metadata": {},
   "outputs": [],
   "source": [
    "def tolist(text):\n",
    "    long = list()\n",
    "    text = text.split('\\n')\n",
    "    for row in text:\n",
    "        if (row.find('[0]')<0):\n",
    "            continue\n",
    "        lat = row.split(', ')\n",
    "        lat_digits = list()\n",
    "        lat = lat[1:]\n",
    "        for i in lat:\n",
    "            lat.append(float(i))\n",
    "        long.append(lat)\n",
    "    return long\n",
    "\n",
    "\n",
    "lvl = 0 #50.0\n",
    "#dataset_url = f'http://144.206.233.183/thredds/dodsC/Data/s362d.nc.ascii?data[{lvl}:1:{lvl}][{long0}:1:{long1}][{lat0}:1:{lat1}]'\n",
    "dataset_url = 'http://144.206.233.183/thredds/dodsC/Data/s362d.nc.ascii?data[%d:1:%d][0:1:360][0:1:180]'%(lvl, lvl)\n",
    "r = requests.get(dataset_url)\n",
    "# print(type(r))\n",
    "text = r.content.decode()\n",
    "# print(text)\n",
    "# print(tolist(text, lvl))\n",
    "data = np.asarray(tolist(text), dtype='float')\n",
    "print(data)\n",
    "# print(len(data))\n",
    "#data = data.transpose()"
   ]
  },
  {
   "cell_type": "code",
   "execution_count": 9,
   "metadata": {},
   "outputs": [
    {
     "name": "stderr",
     "output_type": "stream",
     "text": [
      "Clipping input data to the valid range for imshow with RGB data ([0..1] for floats or [0..255] for integers).\n"
     ]
    },
    {
     "data": {
      "text/plain": [
       "<matplotlib.colorbar.Colorbar at 0xd83b128>"
      ]
     },
     "execution_count": 9,
     "metadata": {},
     "output_type": "execute_result"
    },
    {
     "data": {
      "image/png": "[encoded data removed]",
      "text/plain": [
       "<Figure size 432x288 with 1 Axes>"
      ]
     },
     "metadata": {
      "needs_background": "light"
     },
     "output_type": "display_data"
    },
    {
     "data": {
      "image/png": "[encoded data removed]",
      "text/plain": [
       "<Figure size 432x288 with 2 Axes>"
      ]
     },
     "metadata": {
      "needs_background": "light"
     },
     "output_type": "display_data"
    }
   ],
   "source": [
    "w_map_standart = imread('map.png')\n",
    "plt.figure()\n",
    "plt.imshow(w_map_standart)\n",
    "w_map = data\n",
    "w_map = resize(w_map, w_map_standart.shape)\n",
    "plt.figure()\n",
    "plt.imshow(w_map_standart)\n",
    "plt.imshow(w_map)\n",
    "plt.colorbar(norm=Normalize(vmin=data.min(), vmax=data.max()), orientation='horizontal', alpha=0.7)"
   ]
  },
  {
   "cell_type": "code",
   "execution_count": 14,
   "metadata": {},
   "outputs": [],
   "source": [
    "import requests\n",
    "import re\n",
    "import numpy as np\n",
    "\n",
    "\n",
    "def __parse(content):\n",
    "    dataset = content.split('\\n')\n",
    "    parsed_dataset = []\n",
    "\n",
    "    for data_piece in dataset:\n",
    "        res = re.findall(r'^\\[\\d+\\]\\[\\d+\\]', data_piece)\n",
    "\n",
    "        if len(res) > 0:\n",
    "            parsed_dataset.append(data_piece.split(', ')[1:])\n",
    "\n",
    "    return parsed_dataset\n",
    "\n",
    "\n",
    "def get(lat, lon, level):\n",
    "    lons = [i for i in range(361)]\n",
    "    lats = [90 - i for i in range(181)]\n",
    "    levels = [\n",
    "        50.0, 137.5, 212.5, 287.5, 362.5, 462.5, 587.5, 700.0, 800.0, 925.0,\n",
    "        1075.0, 1225.0, 1375.0, 1525.0, 1675.0, 1825.0, 1975.0, 2125.0,\n",
    "        2275.0, 2425.0, 2575.0, 2770.0\n",
    "    ]\n",
    "\n",
    "    lat_0 = lats.index(lat[0])\n",
    "    lat_1 = lats.index(lat[1])\n",
    "\n",
    "    lon_0 = lons.index(lon[0])\n",
    "    lon_1 = lons.index(lon[1])\n",
    "\n",
    "    level = levels.index(level)\n",
    "\n",
    "    # import pdb; pdb.set_trace()\n",
    "    dataset_url = f'http://144.206.233.183/thredds/dodsC/Data/s362d.nc.ascii?\\\n",
    "                    data[{level}:1:{level}][{lon_0}:1:{lon_1}][{lat_1}:1:{lat_0}]'\n",
    "\n",
    "    r = requests.get(dataset_url)\n",
    "    r.raise_for_status()\n",
    "    parsed_dataset = __parse(r.content.decode())\n",
    "    parsed_dataset = np.array(parsed_dataset).astype(float)\n",
    "    parsed_dataset = np.transpose(parsed_dataset)\n",
    "\n",
    "    return parsed_dataset"
   ]
  },
  {
   "cell_type": "code",
   "execution_count": 12,
   "metadata": {},
   "outputs": [
    {
     "name": "stdout",
     "output_type": "stream",
     "text": [
      "Did not find \"the\"\n",
      "Found \"one\" in \"The ants go marching one by one\"\n"
     ]
    },
    {
     "ename": "AttributeError",
     "evalue": "'list' object has no attribute 'start'",
     "output_type": "error",
     "traceback": [
      "\u001b[1;31m---------------------------------------------------------------------------\u001b[0m",
      "\u001b[1;31mAttributeError\u001b[0m                            Traceback (most recent call last)",
      "\u001b[1;32m<ipython-input-12-6d080c18d6da>\u001b[0m in \u001b[0;36m<module>\u001b[1;34m\u001b[0m\n\u001b[0;32m     11\u001b[0m         \u001b[0mprint\u001b[0m\u001b[1;33m(\u001b[0m\u001b[1;34m'Found \"{}\" in \"{}\"'\u001b[0m\u001b[1;33m.\u001b[0m\u001b[0mformat\u001b[0m\u001b[1;33m(\u001b[0m\u001b[0mstring\u001b[0m\u001b[1;33m,\u001b[0m \u001b[0mtext\u001b[0m\u001b[1;33m)\u001b[0m\u001b[1;33m)\u001b[0m\u001b[1;33m\u001b[0m\u001b[1;33m\u001b[0m\u001b[0m\n\u001b[0;32m     12\u001b[0m         \u001b[1;31m#text_pos = match.span()\u001b[0m\u001b[1;33m\u001b[0m\u001b[1;33m\u001b[0m\u001b[1;33m\u001b[0m\u001b[0m\n\u001b[1;32m---> 13\u001b[1;33m         \u001b[0mprint\u001b[0m\u001b[1;33m(\u001b[0m\u001b[0mtext\u001b[0m\u001b[1;33m[\u001b[0m\u001b[0mmatch\u001b[0m\u001b[1;33m.\u001b[0m\u001b[0mstart\u001b[0m\u001b[1;33m(\u001b[0m\u001b[1;33m)\u001b[0m\u001b[1;33m:\u001b[0m\u001b[0mmatch\u001b[0m\u001b[1;33m.\u001b[0m\u001b[0mend\u001b[0m\u001b[1;33m(\u001b[0m\u001b[1;33m)\u001b[0m\u001b[1;33m]\u001b[0m\u001b[1;33m)\u001b[0m\u001b[1;33m\u001b[0m\u001b[1;33m\u001b[0m\u001b[0m\n\u001b[0m\u001b[0;32m     14\u001b[0m     \u001b[1;32melse\u001b[0m\u001b[1;33m:\u001b[0m\u001b[1;33m\u001b[0m\u001b[1;33m\u001b[0m\u001b[0m\n\u001b[0;32m     15\u001b[0m         \u001b[0mprint\u001b[0m\u001b[1;33m(\u001b[0m\u001b[1;34m'Did not find \"{}\"'\u001b[0m\u001b[1;33m.\u001b[0m\u001b[0mformat\u001b[0m\u001b[1;33m(\u001b[0m\u001b[0mstring\u001b[0m\u001b[1;33m)\u001b[0m\u001b[1;33m)\u001b[0m\u001b[1;33m\u001b[0m\u001b[1;33m\u001b[0m\u001b[0m\n",
      "\u001b[1;31mAttributeError\u001b[0m: 'list' object has no attribute 'start'"
     ]
    }
   ],
   "source": [
    "import re\n",
    " \n",
    "text = \"The ants go marching one by one\"\n",
    " \n",
    "strings = ['the', 'one']\n",
    " \n",
    "for string in strings:\n",
    "    regex = re.compile(string)\n",
    "    match = re.findall(regex, text)\n",
    "    if match:\n",
    "        print('Found \"{}\" in \"{}\"'.format(string, text))\n",
    "        #text_pos = match.span()\n",
    "        print(text[match.start():match.end()])\n",
    "    else:\n",
    "        print('Did not find \"{}\"'.format(string))"
   ]
  },
  {
   "cell_type": "code",
   "execution_count": null,
   "metadata": {},
   "outputs": [],
   "source": []
  }
 ],
 "metadata": {
  "kernelspec": {
   "display_name": "Python 3",
   "language": "python",
   "name": "python3"
  },
  "language_info": {
   "codemirror_mode": {
    "name": "ipython",
    "version": 3
   },
   "file_extension": ".py",
   "mimetype": "text/x-python",
   "name": "python",
   "nbconvert_exporter": "python",
   "pygments_lexer": "ipython3",
   "version": "3.7.1"
  }
 },
 "nbformat": 4,
 "nbformat_minor": 4
}
